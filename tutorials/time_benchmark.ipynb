{
 "cells": [
  {
   "attachments": {},
   "cell_type": "markdown",
   "metadata": {},
   "source": [
    "### Standard Benchmarks for temporal data"
   ]
  },
  {
   "attachments": {},
   "cell_type": "markdown",
   "metadata": {},
   "source": [
    "Imports"
   ]
  },
  {
   "cell_type": "code",
   "execution_count": null,
   "metadata": {},
   "outputs": [],
   "source": [
    "import pickle\n",
    "import pandas as pd\n",
    "from pathlib import Path\n",
    "import argparse\n",
    "\n",
    "from synthcity.utils.datasets.time_series.google_stocks import GoogleStocksDataloader\n",
    "from synthcity.utils.datasets.time_series.sine import SineDataloader\n",
    "\n",
    "from synthcity.plugins.core.dataloader import TimeSeriesDataLoader\n",
    "from synthcity.benchmark import Benchmarks\n",
    "import synthcity.logger as log"
   ]
  },
  {
   "attachments": {},
   "cell_type": "markdown",
   "metadata": {},
   "source": [
    "Set parameters for model"
   ]
  },
  {
   "cell_type": "code",
   "execution_count": null,
   "metadata": {},
   "outputs": [],
   "source": [
    "log.add(\"synthcity_logs\", \"INFO\")\n",
    "\n",
    "KWARGS = {\"n_iter\": 100}\n",
    "KWARGS_str = \"-\".join([f\"{k}:{v}\" for k, v in KWARGS.items()])\n"
   ]
  },
  {
   "attachments": {},
   "cell_type": "markdown",
   "metadata": {},
   "source": [
    "Main functions"
   ]
  },
  {
   "cell_type": "code",
   "execution_count": null,
   "metadata": {},
   "outputs": [],
   "source": [
    "def run_dataset(loader, workspace_path, models):\n",
    "    try:\n",
    "        score = Benchmarks.evaluate(\n",
    "            [(model, model, KWARGS) for model in models],\n",
    "            loader.train(),\n",
    "            loader.test(),\n",
    "            task_type=\"time_series\",\n",
    "            synthetic_size=loader.dataframe().shape[0],\n",
    "            synthetic_reuse_if_exists=False,\n",
    "            augmented_reuse_if_exists=False,\n",
    "            metrics={\n",
    "                \"stats\": [\"alpha_precision\"],\n",
    "                \"detection\": [\"detection_xgb\", \"detection_mlp\", \"detection_linear\"],\n",
    "                \"performance\": [\n",
    "                    \"linear_model\",\n",
    "                    \"mlp\",\n",
    "                    \"xgb\",\n",
    "                ],\n",
    "            },\n",
    "            workspace=workspace_path,\n",
    "            repeats=1,\n",
    "            device=\"cpu\",\n",
    "        )\n",
    "        print(score)\n",
    "    except Exception as e:\n",
    "        print(\"\\n\\n\", e)\n",
    "        score = None\n",
    "\n",
    "    return score\n",
    "\n",
    "def create_absolute_path(cwd, path):\n",
    "    if cwd.name not in [\"tutorials\", \"tests\", \"synthcity-benckmarking\"]:\n",
    "        cwd = cwd / Path(\"../\")\n",
    "    path = (cwd / path).resolve()\n",
    "    seen = set()\n",
    "    seen_add= seen.add\n",
    "    path = \"/\".join([p for p in str(path).split(\"/\") if not (p in seen or seen_add(p))])\n",
    "\n",
    "    return Path(path)\n",
    "    \n",
    "def run_synthcity(models=[\"timegan\"], dataset_loader_name=\"sine\", save=False):\n",
    "    dataset_loaders = {\n",
    "        \"sine\": SineDataloader,\n",
    "        \"googlestocks\": GoogleStocksDataloader,\n",
    "    }\n",
    "\n",
    "    cwd = Path.cwd()\n",
    "    workspace_path = create_absolute_path(cwd, f\"../workspace/time_series/\")\n",
    "    result_path = create_absolute_path(cwd, f\"../results/time_series/\")\n",
    "    Path(result_path).mkdir(parents=True, exist_ok=True)\n",
    "\n",
    "    # Load and Prep data\n",
    "    (\n",
    "        static_data,\n",
    "        temporal_data,\n",
    "        observation_times,\n",
    "        outcome,\n",
    "    ) = dataset_loaders[dataset_loader_name.lower()]().load()\n",
    "\n",
    "    loader = TimeSeriesDataLoader(\n",
    "        temporal_data=temporal_data,\n",
    "        observation_times=observation_times,\n",
    "        static_data=static_data,\n",
    "        outcome=outcome,\n",
    "    )\n",
    "    print(loader.dataframe().head())\n",
    "    score = run_dataset(loader, workspace_path, models)\n",
    "\n",
    "\n",
    "    if score:\n",
    "        Benchmarks.print(score)\n",
    "        Benchmarks.highlight(score)\n",
    "        if save:\n",
    "            with open(\n",
    "                f\"{result_path}/{dataset_loader_name.lower()}-{'-'.join(models)}-{KWARGS_str}.pkl\",\n",
    "                \"wb\",\n",
    "            ) as f:\n",
    "                pickle.dump(score, f)\n"
   ]
  },
  {
   "cell_type": "code",
   "execution_count": null,
   "metadata": {},
   "outputs": [],
   "source": [
    "run_synthcity(models=[\"timevae\"], dataset_loader_name=\"sine\", save=False)"
   ]
  }
 ],
 "metadata": {
  "kernelspec": {
   "display_name": "synthcity-all",
   "language": "python",
   "name": "python3"
  },
  "language_info": {
   "codemirror_mode": {
    "name": "ipython",
    "version": 3
   },
   "file_extension": ".py",
   "mimetype": "text/x-python",
   "name": "python",
   "nbconvert_exporter": "python",
   "pygments_lexer": "ipython3",
   "version": "3.9.16"
  },
  "orig_nbformat": 4
 },
 "nbformat": 4,
 "nbformat_minor": 2
}
