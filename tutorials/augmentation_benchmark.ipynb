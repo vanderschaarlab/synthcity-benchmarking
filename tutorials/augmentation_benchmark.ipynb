{
 "cells": [
  {
   "attachments": {},
   "cell_type": "markdown",
   "metadata": {},
   "source": [
    "### Augmentation performance Benchmarks for tabular data"
   ]
  },
  {
   "attachments": {},
   "cell_type": "markdown",
   "metadata": {},
   "source": [
    "Imports"
   ]
  },
  {
   "cell_type": "code",
   "execution_count": null,
   "metadata": {},
   "outputs": [],
   "source": [
    "import pickle\n",
    "import pandas as pd\n",
    "from pathlib import Path\n",
    "\n",
    "from synthcity.plugins.core.dataloader import GenericDataLoader\n",
    "from synthcity.benchmark import Benchmarks\n",
    "import synthcity.logger as log"
   ]
  },
  {
   "attachments": {},
   "cell_type": "markdown",
   "metadata": {},
   "source": [
    "Set parameters for model"
   ]
  },
  {
   "cell_type": "code",
   "execution_count": null,
   "metadata": {},
   "outputs": [],
   "source": [
    "log.add(\"synthcity_logs\", \"INFO\")\n",
    "\n",
    "KWARGS = {\"n_iter\": 100}\n",
    "KWARGS_str = \"-\".join([f\"{k}:{v}\" for k, v in KWARGS.items()])"
   ]
  },
  {
   "attachments": {},
   "cell_type": "markdown",
   "metadata": {},
   "source": [
    "Main functions"
   ]
  },
  {
   "cell_type": "code",
   "execution_count": null,
   "metadata": {},
   "outputs": [],
   "source": [
    "\n",
    "def preprocess_data(file_path, file, time_horizon=14):\n",
    "\n",
    "    X = pd.read_csv(f\"{file_path}/{file}\")\n",
    "    # Create the target column\n",
    "    X.loc[\n",
    "        (X[\"Days_hospital_to_outcome\"] <= time_horizon) & (X[\"is_dead\"] == 1),\n",
    "        f\"is_dead_at_time_horizon={time_horizon}\",\n",
    "    ] = 1\n",
    "    X.loc[\n",
    "        (X[\"Days_hospital_to_outcome\"] > time_horizon),\n",
    "        f\"is_dead_at_time_horizon={time_horizon}\",\n",
    "    ] = 0\n",
    "    X.loc[(X[\"is_dead\"] == 0), f\"is_dead_at_time_horizon={time_horizon}\"] = 0\n",
    "    X[f\"is_dead_at_time_horizon={time_horizon}\"] = X[\n",
    "        f\"is_dead_at_time_horizon={time_horizon}\"\n",
    "    ].astype(int)\n",
    "\n",
    "    X.drop(columns=[\"is_dead\", \"Days_hospital_to_outcome\"], inplace=True)\n",
    "    return X\n",
    "\n",
    "def run_dataset(loader, workspace_path, models):\n",
    "    try:\n",
    "        score = Benchmarks.evaluate(\n",
    "            [(model, model, KWARGS) for model in models],\n",
    "            loader.train(),\n",
    "            loader.test(),\n",
    "            task_type=\"classification\",\n",
    "            synthetic_size=loader.dataframe().shape[0],\n",
    "            synthetic_reuse_if_exists=False,\n",
    "            augmented_reuse_if_exists=False,\n",
    "            augmentation_rule=\"equal\", # equal, log, or ad-hoc\n",
    "            metrics={\n",
    "                \"performance\": [\n",
    "                    \"linear_model_augmentation\",\n",
    "                    \"mlp_augmentation\",\n",
    "                    \"xgb_augmentation\",\n",
    "                ],\n",
    "            },\n",
    "            workspace=workspace_path,\n",
    "            repeats=1,\n",
    "            device=\"cpu\",\n",
    "        )\n",
    "        print(score)\n",
    "    except Exception as e:\n",
    "        print(\"\\n\\n\", e)\n",
    "        score = None\n",
    "\n",
    "    return score\n",
    "\n",
    "def create_absolute_path(cwd, path):\n",
    "    if cwd.name not in [\"tutorials\", \"tests\", \"synthcity-benckmarking\"]:\n",
    "        cwd = cwd / Path(\"../\")\n",
    "    path = (cwd / path).resolve()\n",
    "    seen = set()\n",
    "    seen_add= seen.add\n",
    "    path = \"/\".join([p for p in path.split(\"/\") if not (p in seen or seen_add(p))])\n",
    "\n",
    "    return path\n",
    "\n",
    "def run_synthcity(models=[\"ctgan\"], save=False):\n",
    "    cwd = Path.cwd()\n",
    "    file_path = create_absolute_path(cwd, f\"../data/augmentation/\")\n",
    "    workspace_path = create_absolute_path(cwd, f\"../workspace/augmentation/\")\n",
    "    result_path = create_absolute_path(cwd, f\"../results/augmentation\")\n",
    "    Path(result_path).mkdir(parents=True, exist_ok=True)\n",
    "\n",
    "    # Load and Prep data\n",
    "    # Save the preprocessed data to a csv file with the following name into the data/augmentation folder\n",
    "    file = \"covid_normalised_numericalised.csv\"\n",
    "    print(f\"{file_path}/{file}\")\n",
    "\n",
    "    time_horizon = 14 # time horizon for prediction set to 14 days\n",
    "    X = preprocess_data(file_path, file, time_horizon=time_horizon)\n",
    "\n",
    "    loader = GenericDataLoader(\n",
    "        X,\n",
    "        target_column=f\"is_dead_at_time_horizon={time_horizon}\",\n",
    "        sensitive_features=[\"Ethnicity\"],\n",
    "        fairness_column=\"Ethnicity\",\n",
    "        domain_column=\"Ethnicity\",\n",
    "        random_state=42,\n",
    "    )\n",
    "\n",
    "    score = run_dataset(loader, workspace_path, models)\n",
    "\n",
    "    if score:\n",
    "        Benchmarks.print(score)\n",
    "        Benchmarks.highlight(score)\n",
    "        if save:\n",
    "            with open(f\"{result_path}/{file}-{'-'.join(models)}-{KWARGS_str}.pkl\", \"wb\") as f:\n",
    "                pickle.dump(score, f)\n",
    "\n"
   ]
  },
  {
   "cell_type": "code",
   "execution_count": null,
   "metadata": {},
   "outputs": [],
   "source": [
    "run_synthcity([\"ctgan\", \"tvae\"])"
   ]
  }
 ],
 "metadata": {
  "kernelspec": {
   "display_name": "synthcity-all",
   "language": "python",
   "name": "python3"
  },
  "language_info": {
   "codemirror_mode": {
    "name": "ipython",
    "version": 3
   },
   "file_extension": ".py",
   "mimetype": "text/x-python",
   "name": "python",
   "nbconvert_exporter": "python",
   "pygments_lexer": "ipython3",
   "version": "3.9.16"
  },
  "orig_nbformat": 4
 },
 "nbformat": 4,
 "nbformat_minor": 2
}
