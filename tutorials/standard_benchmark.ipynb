{
 "cells": [
  {
   "attachments": {},
   "cell_type": "markdown",
   "metadata": {},
   "source": [
    "### Standard Benchmarks for tabular data"
   ]
  },
  {
   "attachments": {},
   "cell_type": "markdown",
   "metadata": {},
   "source": [
    "Imports"
   ]
  },
  {
   "cell_type": "code",
   "execution_count": 5,
   "metadata": {},
   "outputs": [],
   "source": [
    "import pickle\n",
    "import os\n",
    "from pathlib import Path\n",
    "\n",
    "from synthcity.plugins.core.dataloader import GenericDataLoader\n",
    "from synthcity.benchmark import Benchmarks\n",
    "import synthcity.logger as log\n"
   ]
  },
  {
   "attachments": {},
   "cell_type": "markdown",
   "metadata": {},
   "source": [
    "Set parameters for model"
   ]
  },
  {
   "cell_type": "code",
   "execution_count": 6,
   "metadata": {},
   "outputs": [],
   "source": [
    "log.add(\"synthcity_logs\", \"INFO\")\n",
    "\n",
    "KWARGS = {\"n_iter\": 100}\n",
    "KWARGS_str = \"-\".join([f\"{k}:{v}\" for k, v in KWARGS.items()])"
   ]
  },
  {
   "attachments": {},
   "cell_type": "markdown",
   "metadata": {},
   "source": [
    "Main functions"
   ]
  },
  {
   "cell_type": "code",
   "execution_count": 7,
   "metadata": {},
   "outputs": [],
   "source": [
    "def run_dataset(X, workspace_path, models, task_type=\"regression\"):\n",
    "\n",
    "    # create synthcity `dataloader`` object\n",
    "    loader = GenericDataLoader(X, target_column=\"y\")\n",
    "\n",
    "    score = Benchmarks.evaluate(\n",
    "        [(model, model, KWARGS) for model in models],\n",
    "        loader.train(),\n",
    "        loader.test(),\n",
    "        task_type=task_type,\n",
    "        synthetic_size=X.shape[0],\n",
    "        metrics={\n",
    "            \"stats\": [\"alpha_precision\"],\n",
    "            \"detection\": [\"detection_xgb\", \"detection_mlp\", \"detection_linear\"],\n",
    "            \"performance\": [\"linear_model\", \"mlp\", \"xgb\"],\n",
    "        },\n",
    "        workspace=workspace_path,\n",
    "        repeats=1,\n",
    "        synthetic_reuse_if_exists=False,\n",
    "        augmented_reuse_if_exists=False,\n",
    "        device=\"cpu\",\n",
    "    )\n",
    "\n",
    "    return score\n",
    "\n",
    "def create_absolute_path(cwd, path):\n",
    "    if cwd.name not in [\"tutorials\", \"tests\", \"synthcity-benckmarking\"]:\n",
    "        cwd = cwd / Path(\"../\")\n",
    "    path = (cwd / path).resolve()\n",
    "    seen = set()\n",
    "    seen_add= seen.add\n",
    "    path = \"/\".join([p for p in path.split(\"/\") if not (p in seen or seen_add(p))])\n",
    "\n",
    "    return path\n",
    "\n",
    "def run_synthcity(data_type=\"num\", task_type=\"regression\", models=[\"ctgan\"], save=False):\n",
    "    cwd = Path.cwd()\n",
    "    \n",
    "    file_path = create_absolute_path(cwd, f\"../data/{data_type}/{task_type}/\", data_type=\"num\", task_type=\"regression\",)\n",
    "    workspace_path = create_absolute_path(cwd, f\"../workspace/{data_type}/{task_type}/\")\n",
    "    result_path = create_absolute_path(cwd, f\"../results/{data_type}/{task_type}/\")\n",
    "    Path(result_path).mkdir(parents=True, exist_ok=True)\n",
    "\n",
    "    # list files in the file_path\n",
    "    files = os.listdir(file_path)\n",
    "    print(f\"Number of files in {file_path}: {len(files)}\")\n",
    "\n",
    "    # Lets just run the benchmark for one file, the first in our list\n",
    "    file = files[0]\n",
    "    print(f\"{file_path}/{file}\")\n",
    "    with open(f\"{file_path}/{file}\", \"rb\") as f:\n",
    "        data_dict = pickle.load(f)\n",
    "\n",
    "    X = data_dict[\"X\"]\n",
    "    y = data_dict[\"y\"]\n",
    "    X[\"y\"] = y\n",
    "\n",
    "    score = run_dataset(X, workspace_path, models, task_type=task_type)\n",
    "    if score:\n",
    "        Benchmarks.print(score)\n",
    "        Benchmarks.highlight(score)\n",
    "        if save:\n",
    "            with open(f\"{result_path}/{file}-{'-'.join(models)}-{KWARGS_str}.pkl\", \"wb\") as f:\n",
    "                pickle.dump(score, f)\n",
    "\n"
   ]
  },
  {
   "cell_type": "code",
   "execution_count": 8,
   "metadata": {},
   "outputs": [
    {
     "name": "stdout",
     "output_type": "stream",
     "text": [
      "tutorials\n",
      "Number of files in /home/rob/Documents/projects/RD_papers/synthcity-benchmarking/data/num/regression: 17\n",
      "/home/rob/Documents/projects/RD_papers/synthcity-benchmarking/data/num/regression/296.pkl\n"
     ]
    },
    {
     "ename": "KeyboardInterrupt",
     "evalue": "",
     "output_type": "error",
     "traceback": [
      "\u001b[0;31m---------------------------------------------------------------------------\u001b[0m",
      "\u001b[0;31mKeyboardInterrupt\u001b[0m                         Traceback (most recent call last)",
      "Cell \u001b[0;32mIn[8], line 1\u001b[0m\n\u001b[0;32m----> 1\u001b[0m run_synthcity(\u001b[39m\"\u001b[39;49m\u001b[39mnum\u001b[39;49m\u001b[39m\"\u001b[39;49m, \u001b[39m\"\u001b[39;49m\u001b[39mregression\u001b[39;49m\u001b[39m\"\u001b[39;49m, [\u001b[39m\"\u001b[39;49m\u001b[39mtvae\u001b[39;49m\u001b[39m\"\u001b[39;49m, \u001b[39m\"\u001b[39;49m\u001b[39mctgan\u001b[39;49m\u001b[39m\"\u001b[39;49m])\n",
      "Cell \u001b[0;32mIn[7], line 51\u001b[0m, in \u001b[0;36mrun_synthcity\u001b[0;34m(data_type, task_type, models, save)\u001b[0m\n\u001b[1;32m     48\u001b[0m y \u001b[39m=\u001b[39m data_dict[\u001b[39m\"\u001b[39m\u001b[39my\u001b[39m\u001b[39m\"\u001b[39m]\n\u001b[1;32m     49\u001b[0m X[\u001b[39m\"\u001b[39m\u001b[39my\u001b[39m\u001b[39m\"\u001b[39m] \u001b[39m=\u001b[39m y\n\u001b[0;32m---> 51\u001b[0m score \u001b[39m=\u001b[39m run_dataset(X, workspace_path, models, task_type\u001b[39m=\u001b[39;49mtask_type)\n\u001b[1;32m     52\u001b[0m \u001b[39mif\u001b[39;00m score:\n\u001b[1;32m     53\u001b[0m     Benchmarks\u001b[39m.\u001b[39mprint(score)\n",
      "Cell \u001b[0;32mIn[7], line 6\u001b[0m, in \u001b[0;36mrun_dataset\u001b[0;34m(X, workspace_path, models, task_type)\u001b[0m\n\u001b[1;32m      1\u001b[0m \u001b[39mdef\u001b[39;00m \u001b[39mrun_dataset\u001b[39m(X, workspace_path, models, task_type\u001b[39m=\u001b[39m\u001b[39m\"\u001b[39m\u001b[39mregression\u001b[39m\u001b[39m\"\u001b[39m):\n\u001b[1;32m      2\u001b[0m \n\u001b[1;32m      3\u001b[0m     \u001b[39m# create synthcity `dataloader`` object\u001b[39;00m\n\u001b[1;32m      4\u001b[0m     loader \u001b[39m=\u001b[39m GenericDataLoader(X, target_column\u001b[39m=\u001b[39m\u001b[39m\"\u001b[39m\u001b[39my\u001b[39m\u001b[39m\"\u001b[39m)\n\u001b[0;32m----> 6\u001b[0m     score \u001b[39m=\u001b[39m Benchmarks\u001b[39m.\u001b[39;49mevaluate(\n\u001b[1;32m      7\u001b[0m         [(model, model, KWARGS) \u001b[39mfor\u001b[39;49;00m model \u001b[39min\u001b[39;49;00m models],\n\u001b[1;32m      8\u001b[0m         loader\u001b[39m.\u001b[39;49mtrain(),\n\u001b[1;32m      9\u001b[0m         loader\u001b[39m.\u001b[39;49mtest(),\n\u001b[1;32m     10\u001b[0m         task_type\u001b[39m=\u001b[39;49mtask_type,\n\u001b[1;32m     11\u001b[0m         synthetic_size\u001b[39m=\u001b[39;49mX\u001b[39m.\u001b[39;49mshape[\u001b[39m0\u001b[39;49m],\n\u001b[1;32m     12\u001b[0m         metrics\u001b[39m=\u001b[39;49m{\n\u001b[1;32m     13\u001b[0m             \u001b[39m\"\u001b[39;49m\u001b[39mstats\u001b[39;49m\u001b[39m\"\u001b[39;49m: [\u001b[39m\"\u001b[39;49m\u001b[39malpha_precision\u001b[39;49m\u001b[39m\"\u001b[39;49m],\n\u001b[1;32m     14\u001b[0m             \u001b[39m\"\u001b[39;49m\u001b[39mdetection\u001b[39;49m\u001b[39m\"\u001b[39;49m: [\u001b[39m\"\u001b[39;49m\u001b[39mdetection_xgb\u001b[39;49m\u001b[39m\"\u001b[39;49m, \u001b[39m\"\u001b[39;49m\u001b[39mdetection_mlp\u001b[39;49m\u001b[39m\"\u001b[39;49m, \u001b[39m\"\u001b[39;49m\u001b[39mdetection_linear\u001b[39;49m\u001b[39m\"\u001b[39;49m],\n\u001b[1;32m     15\u001b[0m             \u001b[39m\"\u001b[39;49m\u001b[39mperformance\u001b[39;49m\u001b[39m\"\u001b[39;49m: [\u001b[39m\"\u001b[39;49m\u001b[39mlinear_model\u001b[39;49m\u001b[39m\"\u001b[39;49m, \u001b[39m\"\u001b[39;49m\u001b[39mmlp\u001b[39;49m\u001b[39m\"\u001b[39;49m, \u001b[39m\"\u001b[39;49m\u001b[39mxgb\u001b[39;49m\u001b[39m\"\u001b[39;49m],\n\u001b[1;32m     16\u001b[0m         },\n\u001b[1;32m     17\u001b[0m         workspace\u001b[39m=\u001b[39;49mworkspace_path,\n\u001b[1;32m     18\u001b[0m         repeats\u001b[39m=\u001b[39;49m\u001b[39m1\u001b[39;49m,\n\u001b[1;32m     19\u001b[0m         synthetic_reuse_if_exists\u001b[39m=\u001b[39;49m\u001b[39mFalse\u001b[39;49;00m,\n\u001b[1;32m     20\u001b[0m         augmented_reuse_if_exists\u001b[39m=\u001b[39;49m\u001b[39mFalse\u001b[39;49;00m,\n\u001b[1;32m     21\u001b[0m         device\u001b[39m=\u001b[39;49m\u001b[39m\"\u001b[39;49m\u001b[39mcpu\u001b[39;49m\u001b[39m\"\u001b[39;49m,\n\u001b[1;32m     22\u001b[0m     )\n\u001b[1;32m     24\u001b[0m     \u001b[39mreturn\u001b[39;00m score\n",
      "File \u001b[0;32m~/miniconda3/envs/synthcity-all/lib/python3.9/site-packages/pydantic/decorator.py:40\u001b[0m, in \u001b[0;36mpydantic.decorator.validate_arguments.validate.wrapper_function\u001b[0;34m()\u001b[0m\n",
      "File \u001b[0;32m~/miniconda3/envs/synthcity-all/lib/python3.9/site-packages/pydantic/decorator.py:134\u001b[0m, in \u001b[0;36mpydantic.decorator.ValidatedFunction.call\u001b[0;34m()\u001b[0m\n",
      "File \u001b[0;32m~/miniconda3/envs/synthcity-all/lib/python3.9/site-packages/pydantic/decorator.py:206\u001b[0m, in \u001b[0;36mpydantic.decorator.ValidatedFunction.execute\u001b[0;34m()\u001b[0m\n",
      "File \u001b[0;32m~/Documents/projects/synthcity/src/synthcity/benchmark/__init__.py:194\u001b[0m, in \u001b[0;36mBenchmarks.evaluate\u001b[0;34m(tests, X, X_test, metrics, repeats, synthetic_size, synthetic_constraints, synthetic_cache, synthetic_reuse_if_exists, augmented_reuse_if_exists, task_type, workspace, augmentation_rule, strict_augmentation, ad_hoc_augment_vals, use_metric_cache, **generate_kwargs)\u001b[0m\n\u001b[1;32m    188\u001b[0m \u001b[39melse\u001b[39;00m:\n\u001b[1;32m    189\u001b[0m     generator \u001b[39m=\u001b[39m Plugins(categories\u001b[39m=\u001b[39mplugin_cats)\u001b[39m.\u001b[39mget(\n\u001b[1;32m    190\u001b[0m         plugin,\n\u001b[1;32m    191\u001b[0m         \u001b[39m*\u001b[39m\u001b[39m*\u001b[39mkwargs,\n\u001b[1;32m    192\u001b[0m     )\n\u001b[0;32m--> 194\u001b[0m     generator\u001b[39m.\u001b[39;49mfit(X\u001b[39m.\u001b[39;49mtrain())\n\u001b[1;32m    196\u001b[0m     \u001b[39mif\u001b[39;00m synthetic_cache:\n\u001b[1;32m    197\u001b[0m         save_to_file(generator_file, generator)\n",
      "File \u001b[0;32m~/miniconda3/envs/synthcity-all/lib/python3.9/site-packages/pydantic/decorator.py:40\u001b[0m, in \u001b[0;36mpydantic.decorator.validate_arguments.validate.wrapper_function\u001b[0;34m()\u001b[0m\n",
      "File \u001b[0;32m~/miniconda3/envs/synthcity-all/lib/python3.9/site-packages/pydantic/decorator.py:134\u001b[0m, in \u001b[0;36mpydantic.decorator.ValidatedFunction.call\u001b[0;34m()\u001b[0m\n",
      "File \u001b[0;32m~/miniconda3/envs/synthcity-all/lib/python3.9/site-packages/pydantic/decorator.py:206\u001b[0m, in \u001b[0;36mpydantic.decorator.ValidatedFunction.execute\u001b[0;34m()\u001b[0m\n",
      "File \u001b[0;32m~/Documents/projects/synthcity/src/synthcity/plugins/core/plugin.py:244\u001b[0m, in \u001b[0;36mPlugin.fit\u001b[0;34m(self, X, *args, **kwargs)\u001b[0m\n\u001b[1;32m    236\u001b[0m         X, \u001b[39mself\u001b[39m\u001b[39m.\u001b[39mcompress_context \u001b[39m=\u001b[39m load_from_file(bkp_file)\n\u001b[1;32m    238\u001b[0m \u001b[39mself\u001b[39m\u001b[39m.\u001b[39m_training_schema \u001b[39m=\u001b[39m Schema(\n\u001b[1;32m    239\u001b[0m     data\u001b[39m=\u001b[39mX,\n\u001b[1;32m    240\u001b[0m     sampling_strategy\u001b[39m=\u001b[39m\u001b[39mself\u001b[39m\u001b[39m.\u001b[39msampling_strategy,\n\u001b[1;32m    241\u001b[0m     random_state\u001b[39m=\u001b[39m\u001b[39mself\u001b[39m\u001b[39m.\u001b[39mrandom_state,\n\u001b[1;32m    242\u001b[0m )\n\u001b[0;32m--> 244\u001b[0m output \u001b[39m=\u001b[39m \u001b[39mself\u001b[39;49m\u001b[39m.\u001b[39;49m_fit(X, \u001b[39m*\u001b[39;49margs, \u001b[39m*\u001b[39;49m\u001b[39m*\u001b[39;49mkwargs)\n\u001b[1;32m    245\u001b[0m \u001b[39mself\u001b[39m\u001b[39m.\u001b[39mfitted \u001b[39m=\u001b[39m \u001b[39mTrue\u001b[39;00m\n\u001b[1;32m    247\u001b[0m \u001b[39mreturn\u001b[39;00m output\n",
      "File \u001b[0;32m~/Documents/projects/synthcity/src/synthcity/plugins/generic/plugin_tvae.py:196\u001b[0m, in \u001b[0;36mTVAEPlugin._fit\u001b[0;34m(self, X, *args, **kwargs)\u001b[0m\n\u001b[1;32m    193\u001b[0m \u001b[39mif\u001b[39;00m \u001b[39m\"\u001b[39m\u001b[39mcond\u001b[39m\u001b[39m\"\u001b[39m \u001b[39min\u001b[39;00m kwargs:\n\u001b[1;32m    194\u001b[0m     cond \u001b[39m=\u001b[39m kwargs[\u001b[39m\"\u001b[39m\u001b[39mcond\u001b[39m\u001b[39m\"\u001b[39m]\n\u001b[0;32m--> 196\u001b[0m \u001b[39mself\u001b[39m\u001b[39m.\u001b[39mmodel \u001b[39m=\u001b[39m TabularVAE(\n\u001b[1;32m    197\u001b[0m     X\u001b[39m.\u001b[39;49mdataframe(),\n\u001b[1;32m    198\u001b[0m     cond\u001b[39m=\u001b[39;49mcond,\n\u001b[1;32m    199\u001b[0m     n_units_embedding\u001b[39m=\u001b[39;49m\u001b[39mself\u001b[39;49m\u001b[39m.\u001b[39;49mn_units_embedding,\n\u001b[1;32m    200\u001b[0m     batch_size\u001b[39m=\u001b[39;49m\u001b[39mself\u001b[39;49m\u001b[39m.\u001b[39;49mbatch_size,\n\u001b[1;32m    201\u001b[0m     lr\u001b[39m=\u001b[39;49m\u001b[39mself\u001b[39;49m\u001b[39m.\u001b[39;49mlr,\n\u001b[1;32m    202\u001b[0m     weight_decay\u001b[39m=\u001b[39;49m\u001b[39mself\u001b[39;49m\u001b[39m.\u001b[39;49mweight_decay,\n\u001b[1;32m    203\u001b[0m     n_iter\u001b[39m=\u001b[39;49m\u001b[39mself\u001b[39;49m\u001b[39m.\u001b[39;49mn_iter,\n\u001b[1;32m    204\u001b[0m     decoder_n_layers_hidden\u001b[39m=\u001b[39;49m\u001b[39mself\u001b[39;49m\u001b[39m.\u001b[39;49mdecoder_n_layers_hidden,\n\u001b[1;32m    205\u001b[0m     decoder_n_units_hidden\u001b[39m=\u001b[39;49m\u001b[39mself\u001b[39;49m\u001b[39m.\u001b[39;49mdecoder_n_units_hidden,\n\u001b[1;32m    206\u001b[0m     decoder_nonlin\u001b[39m=\u001b[39;49m\u001b[39mself\u001b[39;49m\u001b[39m.\u001b[39;49mdecoder_nonlin,\n\u001b[1;32m    207\u001b[0m     decoder_nonlin_out_discrete\u001b[39m=\u001b[39;49m\u001b[39m\"\u001b[39;49m\u001b[39msoftmax\u001b[39;49m\u001b[39m\"\u001b[39;49m,\n\u001b[1;32m    208\u001b[0m     decoder_nonlin_out_continuous\u001b[39m=\u001b[39;49m\u001b[39m\"\u001b[39;49m\u001b[39mtanh\u001b[39;49m\u001b[39m\"\u001b[39;49m,\n\u001b[1;32m    209\u001b[0m     decoder_residual\u001b[39m=\u001b[39;49m\u001b[39mTrue\u001b[39;49;00m,\n\u001b[1;32m    210\u001b[0m     decoder_batch_norm\u001b[39m=\u001b[39;49m\u001b[39mFalse\u001b[39;49;00m,\n\u001b[1;32m    211\u001b[0m     decoder_dropout\u001b[39m=\u001b[39;49m\u001b[39mself\u001b[39;49m\u001b[39m.\u001b[39;49mdecoder_dropout,\n\u001b[1;32m    212\u001b[0m     encoder_n_units_hidden\u001b[39m=\u001b[39;49m\u001b[39mself\u001b[39;49m\u001b[39m.\u001b[39;49mencoder_n_units_hidden,\n\u001b[1;32m    213\u001b[0m     encoder_n_layers_hidden\u001b[39m=\u001b[39;49m\u001b[39mself\u001b[39;49m\u001b[39m.\u001b[39;49mencoder_n_layers_hidden,\n\u001b[1;32m    214\u001b[0m     encoder_nonlin\u001b[39m=\u001b[39;49m\u001b[39mself\u001b[39;49m\u001b[39m.\u001b[39;49mencoder_nonlin,\n\u001b[1;32m    215\u001b[0m     encoder_batch_norm\u001b[39m=\u001b[39;49m\u001b[39mFalse\u001b[39;49;00m,\n\u001b[1;32m    216\u001b[0m     encoder_dropout\u001b[39m=\u001b[39;49m\u001b[39mself\u001b[39;49m\u001b[39m.\u001b[39;49mencoder_dropout,\n\u001b[1;32m    217\u001b[0m     encoder_max_clusters\u001b[39m=\u001b[39;49m\u001b[39mself\u001b[39;49m\u001b[39m.\u001b[39;49mdata_encoder_max_clusters,\n\u001b[1;32m    218\u001b[0m     dataloader_sampler\u001b[39m=\u001b[39;49m\u001b[39mself\u001b[39;49m\u001b[39m.\u001b[39;49mdataloader_sampler,\n\u001b[1;32m    219\u001b[0m     loss_factor\u001b[39m=\u001b[39;49m\u001b[39mself\u001b[39;49m\u001b[39m.\u001b[39;49mloss_factor,\n\u001b[1;32m    220\u001b[0m     clipping_value\u001b[39m=\u001b[39;49m\u001b[39mself\u001b[39;49m\u001b[39m.\u001b[39;49mclipping_value,\n\u001b[1;32m    221\u001b[0m     n_iter_min\u001b[39m=\u001b[39;49m\u001b[39mself\u001b[39;49m\u001b[39m.\u001b[39;49mn_iter_min,\n\u001b[1;32m    222\u001b[0m     n_iter_print\u001b[39m=\u001b[39;49m\u001b[39mself\u001b[39;49m\u001b[39m.\u001b[39;49mn_iter_print,\n\u001b[1;32m    223\u001b[0m     patience\u001b[39m=\u001b[39;49m\u001b[39mself\u001b[39;49m\u001b[39m.\u001b[39;49mpatience,\n\u001b[1;32m    224\u001b[0m     device\u001b[39m=\u001b[39;49m\u001b[39mself\u001b[39;49m\u001b[39m.\u001b[39;49mdevice,\n\u001b[1;32m    225\u001b[0m )\n\u001b[1;32m    226\u001b[0m \u001b[39mself\u001b[39m\u001b[39m.\u001b[39mmodel\u001b[39m.\u001b[39mfit(X\u001b[39m.\u001b[39mdataframe(), \u001b[39m*\u001b[39m\u001b[39m*\u001b[39mkwargs)\n\u001b[1;32m    228\u001b[0m \u001b[39mreturn\u001b[39;00m \u001b[39mself\u001b[39m\n",
      "File \u001b[0;32m~/miniconda3/envs/synthcity-all/lib/python3.9/site-packages/pydantic/decorator.py:40\u001b[0m, in \u001b[0;36mpydantic.decorator.validate_arguments.validate.wrapper_function\u001b[0;34m()\u001b[0m\n",
      "File \u001b[0;32m~/miniconda3/envs/synthcity-all/lib/python3.9/site-packages/pydantic/decorator.py:134\u001b[0m, in \u001b[0;36mpydantic.decorator.ValidatedFunction.call\u001b[0;34m()\u001b[0m\n",
      "File \u001b[0;32m~/miniconda3/envs/synthcity-all/lib/python3.9/site-packages/pydantic/decorator.py:206\u001b[0m, in \u001b[0;36mpydantic.decorator.ValidatedFunction.execute\u001b[0;34m()\u001b[0m\n",
      "File \u001b[0;32m~/Documents/projects/synthcity/src/synthcity/plugins/core/models/tabular_vae.py:120\u001b[0m, in \u001b[0;36mTabularVAE.__init__\u001b[0;34m(self, X, n_units_embedding, cond, lr, n_iter, weight_decay, batch_size, random_state, loss_strategy, encoder_max_clusters, decoder_n_layers_hidden, decoder_n_units_hidden, decoder_nonlin, decoder_nonlin_out_discrete, decoder_nonlin_out_continuous, decoder_batch_norm, decoder_dropout, decoder_residual, encoder_n_layers_hidden, encoder_n_units_hidden, encoder_nonlin, encoder_batch_norm, encoder_dropout, encoder_whitelist, device, robust_divergence_beta, loss_factor, dataloader_sampler, clipping_value, n_iter_min, n_iter_print, patience)\u001b[0m\n\u001b[1;32m    118\u001b[0m \u001b[39msuper\u001b[39m(TabularVAE, \u001b[39mself\u001b[39m)\u001b[39m.\u001b[39m\u001b[39m__init__\u001b[39m()\n\u001b[1;32m    119\u001b[0m \u001b[39mself\u001b[39m\u001b[39m.\u001b[39mcolumns \u001b[39m=\u001b[39m X\u001b[39m.\u001b[39mcolumns\n\u001b[0;32m--> 120\u001b[0m \u001b[39mself\u001b[39m\u001b[39m.\u001b[39mencoder \u001b[39m=\u001b[39m TabularEncoder(\n\u001b[1;32m    121\u001b[0m     max_clusters\u001b[39m=\u001b[39;49mencoder_max_clusters, whitelist\u001b[39m=\u001b[39;49mencoder_whitelist\n\u001b[1;32m    122\u001b[0m )\u001b[39m.\u001b[39;49mfit(X)\n\u001b[1;32m    124\u001b[0m n_units_conditional \u001b[39m=\u001b[39m \u001b[39m0\u001b[39m\n\u001b[1;32m    125\u001b[0m \u001b[39mself\u001b[39m\u001b[39m.\u001b[39mcond_encoder: Optional[OneHotEncoder] \u001b[39m=\u001b[39m \u001b[39mNone\u001b[39;00m\n",
      "File \u001b[0;32m~/miniconda3/envs/synthcity-all/lib/python3.9/site-packages/pydantic/decorator.py:40\u001b[0m, in \u001b[0;36mpydantic.decorator.validate_arguments.validate.wrapper_function\u001b[0;34m()\u001b[0m\n",
      "File \u001b[0;32m~/miniconda3/envs/synthcity-all/lib/python3.9/site-packages/pydantic/decorator.py:134\u001b[0m, in \u001b[0;36mpydantic.decorator.ValidatedFunction.call\u001b[0;34m()\u001b[0m\n",
      "File \u001b[0;32m~/miniconda3/envs/synthcity-all/lib/python3.9/site-packages/pydantic/decorator.py:206\u001b[0m, in \u001b[0;36mpydantic.decorator.ValidatedFunction.execute\u001b[0;34m()\u001b[0m\n",
      "File \u001b[0;32m~/Documents/projects/synthcity/src/synthcity/plugins/core/models/tabular_encoder.py:158\u001b[0m, in \u001b[0;36mTabularEncoder.fit\u001b[0;34m(self, raw_data, discrete_columns)\u001b[0m\n\u001b[1;32m    156\u001b[0m log\u001b[39m.\u001b[39minfo(\u001b[39mf\u001b[39m\u001b[39m\"\u001b[39m\u001b[39mEncoding \u001b[39m\u001b[39m{\u001b[39;00mname\u001b[39m}\u001b[39;00m\u001b[39m \u001b[39m\u001b[39m{\u001b[39;00mcolumn_hash\u001b[39m}\u001b[39;00m\u001b[39m\"\u001b[39m)\n\u001b[1;32m    157\u001b[0m ftype \u001b[39m=\u001b[39m \u001b[39m\"\u001b[39m\u001b[39mdiscrete\u001b[39m\u001b[39m\"\u001b[39m \u001b[39mif\u001b[39;00m name \u001b[39min\u001b[39;00m discrete_columns \u001b[39melse\u001b[39;00m \u001b[39m\"\u001b[39m\u001b[39mcontinuous\u001b[39m\u001b[39m\"\u001b[39m\n\u001b[0;32m--> 158\u001b[0m column_transform_info \u001b[39m=\u001b[39m \u001b[39mself\u001b[39;49m\u001b[39m.\u001b[39;49m_fit_feature(raw_data[name], ftype)\n\u001b[1;32m    160\u001b[0m \u001b[39mself\u001b[39m\u001b[39m.\u001b[39moutput_dimensions \u001b[39m+\u001b[39m\u001b[39m=\u001b[39m column_transform_info\u001b[39m.\u001b[39moutput_dimensions\n\u001b[1;32m    161\u001b[0m \u001b[39mself\u001b[39m\u001b[39m.\u001b[39m_column_transform_info_list\u001b[39m.\u001b[39mappend(column_transform_info)\n",
      "File \u001b[0;32m~/miniconda3/envs/synthcity-all/lib/python3.9/site-packages/pydantic/decorator.py:40\u001b[0m, in \u001b[0;36mpydantic.decorator.validate_arguments.validate.wrapper_function\u001b[0;34m()\u001b[0m\n",
      "File \u001b[0;32m~/miniconda3/envs/synthcity-all/lib/python3.9/site-packages/pydantic/decorator.py:134\u001b[0m, in \u001b[0;36mpydantic.decorator.ValidatedFunction.call\u001b[0;34m()\u001b[0m\n",
      "File \u001b[0;32m~/miniconda3/envs/synthcity-all/lib/python3.9/site-packages/pydantic/decorator.py:206\u001b[0m, in \u001b[0;36mpydantic.decorator.ValidatedFunction.execute\u001b[0;34m()\u001b[0m\n",
      "File \u001b[0;32m~/Documents/projects/synthcity/src/synthcity/plugins/core/models/tabular_encoder.py:125\u001b[0m, in \u001b[0;36mTabularEncoder._fit_feature\u001b[0;34m(self, feature, feature_type)\u001b[0m\n\u001b[1;32m    120\u001b[0m \u001b[39melse\u001b[39;00m:\n\u001b[1;32m    121\u001b[0m     encoder \u001b[39m=\u001b[39m get_feature_encoder(\n\u001b[1;32m    122\u001b[0m         \u001b[39mself\u001b[39m\u001b[39m.\u001b[39mcontinuous_encoder, \u001b[39mself\u001b[39m\u001b[39m.\u001b[39mcont_encoder_params\n\u001b[1;32m    123\u001b[0m     )\n\u001b[0;32m--> 125\u001b[0m encoder\u001b[39m.\u001b[39;49mfit(feature)\n\u001b[1;32m    127\u001b[0m \u001b[39mreturn\u001b[39;00m FeatureInfo(\n\u001b[1;32m    128\u001b[0m     name\u001b[39m=\u001b[39mfeature\u001b[39m.\u001b[39mname,\n\u001b[1;32m    129\u001b[0m     feature_type\u001b[39m=\u001b[39mfeature_type,\n\u001b[0;32m   (...)\u001b[0m\n\u001b[1;32m    133\u001b[0m     trans_feature_types\u001b[39m=\u001b[39mencoder\u001b[39m.\u001b[39mfeature_types_out,\n\u001b[1;32m    134\u001b[0m )\n",
      "File \u001b[0;32m~/miniconda3/envs/synthcity-all/lib/python3.9/site-packages/pydantic/decorator.py:40\u001b[0m, in \u001b[0;36mpydantic.decorator.validate_arguments.validate.wrapper_function\u001b[0;34m()\u001b[0m\n",
      "File \u001b[0;32m~/miniconda3/envs/synthcity-all/lib/python3.9/site-packages/pydantic/decorator.py:134\u001b[0m, in \u001b[0;36mpydantic.decorator.ValidatedFunction.call\u001b[0;34m()\u001b[0m\n",
      "File \u001b[0;32m~/miniconda3/envs/synthcity-all/lib/python3.9/site-packages/pydantic/decorator.py:206\u001b[0m, in \u001b[0;36mpydantic.decorator.ValidatedFunction.execute\u001b[0;34m()\u001b[0m\n",
      "File \u001b[0;32m~/Documents/projects/synthcity/src/synthcity/plugins/core/models/feature_encoder.py:68\u001b[0m, in \u001b[0;36mFeatureEncoder.fit\u001b[0;34m(self, x, y, **kwargs)\u001b[0m\n\u001b[1;32m     66\u001b[0m \u001b[39mself\u001b[39m\u001b[39m.\u001b[39mfeature_type_in \u001b[39m=\u001b[39m \u001b[39mself\u001b[39m\u001b[39m.\u001b[39m_get_feature_type(x)\n\u001b[1;32m     67\u001b[0m \u001b[39minput\u001b[39m \u001b[39m=\u001b[39m validate_shape(x\u001b[39m.\u001b[39mvalues, \u001b[39mself\u001b[39m\u001b[39m.\u001b[39mn_dim_in)\n\u001b[0;32m---> 68\u001b[0m output \u001b[39m=\u001b[39m \u001b[39mself\u001b[39;49m\u001b[39m.\u001b[39;49m_fit(\u001b[39minput\u001b[39;49m, \u001b[39m*\u001b[39;49m\u001b[39m*\u001b[39;49mkwargs)\u001b[39m.\u001b[39m_transform(\u001b[39minput\u001b[39m)\n\u001b[1;32m     69\u001b[0m \u001b[39mself\u001b[39m\u001b[39m.\u001b[39m_out_shape \u001b[39m=\u001b[39m (\u001b[39m-\u001b[39m\u001b[39m1\u001b[39m, \u001b[39m*\u001b[39moutput\u001b[39m.\u001b[39mshape[\u001b[39m1\u001b[39m:])  \u001b[39m# for inverse_transform\u001b[39;00m\n\u001b[1;32m     70\u001b[0m output \u001b[39m=\u001b[39m validate_shape(output, \u001b[39mself\u001b[39m\u001b[39m.\u001b[39mn_dim_out)\n",
      "File \u001b[0;32m~/Documents/projects/synthcity/src/synthcity/plugins/core/models/feature_encoder.py:208\u001b[0m, in \u001b[0;36mBayesianGMMEncoder._fit\u001b[0;34m(self, x, **kwargs)\u001b[0m\n\u001b[1;32m    205\u001b[0m \u001b[39mself\u001b[39m\u001b[39m.\u001b[39mmin_value \u001b[39m=\u001b[39m x\u001b[39m.\u001b[39mmin()\n\u001b[1;32m    206\u001b[0m \u001b[39mself\u001b[39m\u001b[39m.\u001b[39mmax_value \u001b[39m=\u001b[39m x\u001b[39m.\u001b[39mmax()\n\u001b[0;32m--> 208\u001b[0m \u001b[39mself\u001b[39;49m\u001b[39m.\u001b[39;49mmodel\u001b[39m.\u001b[39;49mfit(x)\n\u001b[1;32m    209\u001b[0m \u001b[39mself\u001b[39m\u001b[39m.\u001b[39mweights \u001b[39m=\u001b[39m \u001b[39mself\u001b[39m\u001b[39m.\u001b[39mmodel\u001b[39m.\u001b[39mweights_\n\u001b[1;32m    210\u001b[0m \u001b[39mself\u001b[39m\u001b[39m.\u001b[39mmeans \u001b[39m=\u001b[39m \u001b[39mself\u001b[39m\u001b[39m.\u001b[39mmodel\u001b[39m.\u001b[39mmeans_\u001b[39m.\u001b[39mreshape(\u001b[39m-\u001b[39m\u001b[39m1\u001b[39m)\n",
      "File \u001b[0;32m~/miniconda3/envs/synthcity-all/lib/python3.9/site-packages/sklearn/mixture/_base.py:186\u001b[0m, in \u001b[0;36mBaseMixture.fit\u001b[0;34m(self, X, y)\u001b[0m\n\u001b[1;32m    160\u001b[0m \u001b[39m\u001b[39m\u001b[39m\"\"\"Estimate model parameters with the EM algorithm.\u001b[39;00m\n\u001b[1;32m    161\u001b[0m \n\u001b[1;32m    162\u001b[0m \u001b[39mThe method fits the model ``n_init`` times and sets the parameters with\u001b[39;00m\n\u001b[0;32m   (...)\u001b[0m\n\u001b[1;32m    183\u001b[0m \u001b[39m    The fitted mixture.\u001b[39;00m\n\u001b[1;32m    184\u001b[0m \u001b[39m\"\"\"\u001b[39;00m\n\u001b[1;32m    185\u001b[0m \u001b[39m# parameters are validated in fit_predict\u001b[39;00m\n\u001b[0;32m--> 186\u001b[0m \u001b[39mself\u001b[39;49m\u001b[39m.\u001b[39;49mfit_predict(X, y)\n\u001b[1;32m    187\u001b[0m \u001b[39mreturn\u001b[39;00m \u001b[39mself\u001b[39m\n",
      "File \u001b[0;32m~/miniconda3/envs/synthcity-all/lib/python3.9/site-packages/sklearn/mixture/_base.py:253\u001b[0m, in \u001b[0;36mBaseMixture.fit_predict\u001b[0;34m(self, X, y)\u001b[0m\n\u001b[1;32m    250\u001b[0m prev_lower_bound \u001b[39m=\u001b[39m lower_bound\n\u001b[1;32m    252\u001b[0m log_prob_norm, log_resp \u001b[39m=\u001b[39m \u001b[39mself\u001b[39m\u001b[39m.\u001b[39m_e_step(X)\n\u001b[0;32m--> 253\u001b[0m \u001b[39mself\u001b[39;49m\u001b[39m.\u001b[39;49m_m_step(X, log_resp)\n\u001b[1;32m    254\u001b[0m lower_bound \u001b[39m=\u001b[39m \u001b[39mself\u001b[39m\u001b[39m.\u001b[39m_compute_lower_bound(log_resp, log_prob_norm)\n\u001b[1;32m    256\u001b[0m change \u001b[39m=\u001b[39m lower_bound \u001b[39m-\u001b[39m prev_lower_bound\n",
      "File \u001b[0;32m~/miniconda3/envs/synthcity-all/lib/python3.9/site-packages/sklearn/mixture/_bayesian_mixture.py:732\u001b[0m, in \u001b[0;36mBayesianGaussianMixture._m_step\u001b[0;34m(self, X, log_resp)\u001b[0m\n\u001b[1;32m    720\u001b[0m \u001b[39m\u001b[39m\u001b[39m\"\"\"M step.\u001b[39;00m\n\u001b[1;32m    721\u001b[0m \n\u001b[1;32m    722\u001b[0m \u001b[39mParameters\u001b[39;00m\n\u001b[0;32m   (...)\u001b[0m\n\u001b[1;32m    728\u001b[0m \u001b[39m    the point of each sample in X.\u001b[39;00m\n\u001b[1;32m    729\u001b[0m \u001b[39m\"\"\"\u001b[39;00m\n\u001b[1;32m    730\u001b[0m n_samples, _ \u001b[39m=\u001b[39m X\u001b[39m.\u001b[39mshape\n\u001b[0;32m--> 732\u001b[0m nk, xk, sk \u001b[39m=\u001b[39m _estimate_gaussian_parameters(\n\u001b[1;32m    733\u001b[0m     X, np\u001b[39m.\u001b[39;49mexp(log_resp), \u001b[39mself\u001b[39;49m\u001b[39m.\u001b[39;49mreg_covar, \u001b[39mself\u001b[39;49m\u001b[39m.\u001b[39;49mcovariance_type\n\u001b[1;32m    734\u001b[0m )\n\u001b[1;32m    735\u001b[0m \u001b[39mself\u001b[39m\u001b[39m.\u001b[39m_estimate_weights(nk)\n\u001b[1;32m    736\u001b[0m \u001b[39mself\u001b[39m\u001b[39m.\u001b[39m_estimate_means(nk, xk)\n",
      "File \u001b[0;32m~/miniconda3/envs/synthcity-all/lib/python3.9/site-packages/sklearn/mixture/_gaussian_mixture.py:291\u001b[0m, in \u001b[0;36m_estimate_gaussian_parameters\u001b[0;34m(X, resp, reg_covar, covariance_type)\u001b[0m\n\u001b[1;32m    262\u001b[0m \u001b[39m\u001b[39m\u001b[39m\"\"\"Estimate the Gaussian distribution parameters.\u001b[39;00m\n\u001b[1;32m    263\u001b[0m \n\u001b[1;32m    264\u001b[0m \u001b[39mParameters\u001b[39;00m\n\u001b[0;32m   (...)\u001b[0m\n\u001b[1;32m    288\u001b[0m \u001b[39m    The shape depends of the covariance_type.\u001b[39;00m\n\u001b[1;32m    289\u001b[0m \u001b[39m\"\"\"\u001b[39;00m\n\u001b[1;32m    290\u001b[0m nk \u001b[39m=\u001b[39m resp\u001b[39m.\u001b[39msum(axis\u001b[39m=\u001b[39m\u001b[39m0\u001b[39m) \u001b[39m+\u001b[39m \u001b[39m10\u001b[39m \u001b[39m*\u001b[39m np\u001b[39m.\u001b[39mfinfo(resp\u001b[39m.\u001b[39mdtype)\u001b[39m.\u001b[39meps\n\u001b[0;32m--> 291\u001b[0m means \u001b[39m=\u001b[39m np\u001b[39m.\u001b[39;49mdot(resp\u001b[39m.\u001b[39;49mT, X) \u001b[39m/\u001b[39m nk[:, np\u001b[39m.\u001b[39mnewaxis]\n\u001b[1;32m    292\u001b[0m covariances \u001b[39m=\u001b[39m {\n\u001b[1;32m    293\u001b[0m     \u001b[39m\"\u001b[39m\u001b[39mfull\u001b[39m\u001b[39m\"\u001b[39m: _estimate_gaussian_covariances_full,\n\u001b[1;32m    294\u001b[0m     \u001b[39m\"\u001b[39m\u001b[39mtied\u001b[39m\u001b[39m\"\u001b[39m: _estimate_gaussian_covariances_tied,\n\u001b[1;32m    295\u001b[0m     \u001b[39m\"\u001b[39m\u001b[39mdiag\u001b[39m\u001b[39m\"\u001b[39m: _estimate_gaussian_covariances_diag,\n\u001b[1;32m    296\u001b[0m     \u001b[39m\"\u001b[39m\u001b[39mspherical\u001b[39m\u001b[39m\"\u001b[39m: _estimate_gaussian_covariances_spherical,\n\u001b[1;32m    297\u001b[0m }[covariance_type](resp, X, nk, means, reg_covar)\n\u001b[1;32m    298\u001b[0m \u001b[39mreturn\u001b[39;00m nk, means, covariances\n",
      "File \u001b[0;32m<__array_function__ internals>:180\u001b[0m, in \u001b[0;36mdot\u001b[0;34m(*args, **kwargs)\u001b[0m\n",
      "\u001b[0;31mKeyboardInterrupt\u001b[0m: "
     ]
    }
   ],
   "source": [
    "run_synthcity(\"num\", \"regression\", [\"tvae\", \"ctgan\"])"
   ]
  }
 ],
 "metadata": {
  "kernelspec": {
   "display_name": "synthcity-all",
   "language": "python",
   "name": "python3"
  },
  "language_info": {
   "codemirror_mode": {
    "name": "ipython",
    "version": 3
   },
   "file_extension": ".py",
   "mimetype": "text/x-python",
   "name": "python",
   "nbconvert_exporter": "python",
   "pygments_lexer": "ipython3",
   "version": "3.9.16"
  },
  "orig_nbformat": 4
 },
 "nbformat": 4,
 "nbformat_minor": 2
}
