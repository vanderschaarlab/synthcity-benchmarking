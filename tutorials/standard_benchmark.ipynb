{
 "cells": [
  {
   "attachments": {},
   "cell_type": "markdown",
   "metadata": {},
   "source": [
    "### Standard Benchmarks for tabular data"
   ]
  },
  {
   "attachments": {},
   "cell_type": "markdown",
   "metadata": {},
   "source": [
    "Imports"
   ]
  },
  {
   "cell_type": "code",
   "execution_count": null,
   "metadata": {},
   "outputs": [],
   "source": [
    "import pickle\n",
    "import os\n",
    "from pathlib import Path\n",
    "\n",
    "from synthcity.plugins.core.dataloader import GenericDataLoader\n",
    "from synthcity.benchmark import Benchmarks\n",
    "import synthcity.logger as log\n"
   ]
  },
  {
   "attachments": {},
   "cell_type": "markdown",
   "metadata": {},
   "source": [
    "Set parameters for model"
   ]
  },
  {
   "cell_type": "code",
   "execution_count": null,
   "metadata": {},
   "outputs": [],
   "source": [
    "log.add(\"synthcity_logs\", \"INFO\")\n",
    "\n",
    "KWARGS = {\"n_iter\": 100}\n",
    "KWARGS_str = \"-\".join([f\"{k}:{v}\" for k, v in KWARGS.items()])"
   ]
  },
  {
   "attachments": {},
   "cell_type": "markdown",
   "metadata": {},
   "source": [
    "Main functions"
   ]
  },
  {
   "cell_type": "code",
   "execution_count": null,
   "metadata": {},
   "outputs": [],
   "source": [
    "def run_dataset(X, workspace_path, models, task_type=\"regression\"):\n",
    "\n",
    "    # create synthcity `dataloader`` object\n",
    "    loader = GenericDataLoader(X, target_column=\"y\")\n",
    "\n",
    "    score = Benchmarks.evaluate(\n",
    "        [(model, model, KWARGS) for model in models],\n",
    "        loader.train(),\n",
    "        loader.test(),\n",
    "        task_type=task_type,\n",
    "        synthetic_size=X.shape[0],\n",
    "        metrics={\n",
    "            \"stats\": [\"alpha_precision\"],\n",
    "            \"detection\": [\"detection_xgb\", \"detection_mlp\", \"detection_linear\"],\n",
    "            \"performance\": [\"linear_model\", \"mlp\", \"xgb\"],\n",
    "        },\n",
    "        workspace=workspace_path,\n",
    "        repeats=1,\n",
    "        synthetic_reuse_if_exists=False,\n",
    "        augmented_reuse_if_exists=False,\n",
    "        device=\"cpu\",\n",
    "    )\n",
    "\n",
    "    return score\n",
    "\n",
    "\n",
    "def run_synthcity(data_type=\"num\", task_type=\"regression\", models=[\"ctgan\"], save=False):\n",
    "    cwd = Path.cwd()\n",
    "    if cwd.name != \"tutorials\":\n",
    "        cwd = cwd / Path(\"../\")\n",
    "    file_path = (cwd / f\"../data/{data_type}/{task_type}/\").resolve()\n",
    "    workspace_path = (cwd / Path(f\"../workspace/{data_type}/{task_type}/\")).resolve()\n",
    "    result_path = (cwd / f\"../results/{data_type}/{task_type}/\").resolve()\n",
    "    Path(result_path).mkdir(parents=True, exist_ok=True)\n",
    "\n",
    "    # list files in the file_path\n",
    "    files = os.listdir(file_path)\n",
    "    print(f\"Number of files in {file_path}: {len(files)}\")\n",
    "\n",
    "    # Lets just run the benchmark for one file, the first in our list\n",
    "    file = files[0]\n",
    "    print(f\"{file_path}/{file}\")\n",
    "    with open(f\"{file_path}/{file}\", \"rb\") as f:\n",
    "        data_dict = pickle.load(f)\n",
    "\n",
    "    X = data_dict[\"X\"]\n",
    "    y = data_dict[\"y\"]\n",
    "    X[\"y\"] = y\n",
    "\n",
    "    score = run_dataset(X, workspace_path, models, task_type=task_type)\n",
    "    if score:\n",
    "        Benchmarks.print(score)\n",
    "        Benchmarks.highlight(score)\n",
    "        if save:\n",
    "            with open(f\"{result_path}/{file}-{'-'.join(models)}-{KWARGS_str}.pkl\", \"wb\") as f:\n",
    "                pickle.dump(score, f)\n",
    "\n"
   ]
  },
  {
   "cell_type": "code",
   "execution_count": null,
   "metadata": {},
   "outputs": [],
   "source": [
    "run_synthcity(\"num\", \"regression\", [\"tvae\", \"ctgan\"])"
   ]
  }
 ],
 "metadata": {
  "kernelspec": {
   "display_name": "synthcity-all",
   "language": "python",
   "name": "python3"
  },
  "language_info": {
   "codemirror_mode": {
    "name": "ipython",
    "version": 3
   },
   "file_extension": ".py",
   "mimetype": "text/x-python",
   "name": "python",
   "nbconvert_exporter": "python",
   "pygments_lexer": "ipython3",
   "version": "3.9.16"
  },
  "orig_nbformat": 4
 },
 "nbformat": 4,
 "nbformat_minor": 2
}
